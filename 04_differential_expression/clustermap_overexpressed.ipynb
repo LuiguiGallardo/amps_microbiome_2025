{
 "cells": [
  {
   "cell_type": "code",
   "execution_count": 21,
   "metadata": {},
   "outputs": [
    {
     "data": {
      "text/plain": [
       "<Figure size 850x600 with 0 Axes>"
      ]
     },
     "metadata": {},
     "output_type": "display_data"
    }
   ],
   "source": [
    "import os\n",
    "import pandas as pd\n",
    "import seaborn as sns\n",
    "import numpy as np\n",
    "import matplotlib.pyplot as plt\n",
    "from matplotlib.patches import Patch\n",
    "\n",
    "# Load and prepare data\n",
    "data = pd.read_csv(\"./filter_overexpressed_amps_ob.tsv\", delimiter=\"\\t\", index_col=0)\n",
    "samples_cols = [\"O 1\", \"O 2\", \"O 3\", \"OMS 1\", \"OMS 2\", \"OMS 3\"]\n",
    "data[samples_cols] = data[samples_cols].apply(pd.to_numeric, errors='coerce')\n",
    "\n",
    "# Define custom palettes\n",
    "my_colors = [\"orange\", \"red\"]\n",
    "sns.set_palette(my_colors)\n",
    "\n",
    "# Setup row colors for 'origin'\n",
    "data['Origin'] = data['origin'].astype('category')\n",
    "origin = data.pop(\"Origin\")\n",
    "origin_colors = [\"#D8BFD8\", \"#98FB98\", \"#FFFACD\", \"#FFA07A\"]\n",
    "origin_unique_values = origin.unique()[:len(origin_colors)]\n",
    "origin_lut = dict(zip(origin_unique_values, origin_colors))\n",
    "row_colors_origin = origin.map(origin_lut)\n",
    "\n",
    "# Setup column colors for 'group'\n",
    "data[\"Group\"] = data[\"overexpressed_group\"].astype('category')\n",
    "group = data.pop(\"Group\")\n",
    "group_colors = [\"orange\", \"red\"]\n",
    "desired_group_order = [\"O\", \"OMS\"]\n",
    "group_lut = dict(zip(desired_group_order, group_colors))\n",
    "row_colors_group = group.map(group_lut)\n",
    "\n",
    "# Combine row colors\n",
    "combined_row_colors = pd.concat([row_colors_group, row_colors_origin], axis=1)\n",
    "\n",
    "# Generate clustermap\n",
    "heatmap = sns.clustermap(\n",
    "    np.log10(data[samples_cols]),\n",
    "    row_colors=combined_row_colors,\n",
    "    row_cluster=False,\n",
    "    col_cluster=False,\n",
    "    cmap=\"BuPu\",\n",
    "    cbar_kws={\"label\": \"log10(Abundance)\"},\n",
    "    figsize=(8.5, 6)\n",
    ")\n",
    "\n",
    "# Create legend handles\n",
    "handles_origin = [Patch(facecolor=color, label=label) for label, color in origin_lut.items()]\n",
    "handles_group = [Patch(facecolor=color, label=label) for label, color in group_lut.items()]\n",
    "\n",
    "# Add legends manually to the figure\n",
    "legend1 = heatmap.ax_heatmap.legend(\n",
    "    handles_origin,\n",
    "    origin_lut.keys(),\n",
    "    title=\"Origin\",\n",
    "    loc='upper left',\n",
    "    bbox_to_anchor=(-0.385, 0.6),\n",
    "    borderaxespad=0,\n",
    "    frameon=False\n",
    ")\n",
    "\n",
    "legend2 = heatmap.ax_heatmap.legend(\n",
    "    handles_group,\n",
    "    group_lut.keys(),\n",
    "    title=\"Overexpressed\\ngroup\",\n",
    "    loc='upper left',\n",
    "    bbox_to_anchor=(-0.38, 1),\n",
    "    borderaxespad=0,\n",
    "    frameon=False\n",
    ")\n",
    "\n",
    "# Add both legends (keep the first one visible)\n",
    "heatmap.ax_heatmap.add_artist(legend1)\n",
    "\n",
    "# Final formatting\n",
    "heatmap.ax_cbar.set_position((0.05, 0.1, 0.02, 0.17))\n",
    "heatmap.ax_heatmap.set_xlabel(\"\")\n",
    "heatmap.ax_heatmap.set_ylabel(\"\")\n",
    "\n",
    "# Save output\n",
    "plt.savefig(\"./clustermap_log10_ob_groups_filtered.svg\")\n",
    "plt.savefig(\"./clustermap_log10_ob_groups_filtered.png\")\n",
    "plt.clf()\n"
   ]
  }
 ],
 "metadata": {
  "kernelspec": {
   "display_name": "base",
   "language": "python",
   "name": "python3"
  },
  "language_info": {
   "codemirror_mode": {
    "name": "ipython",
    "version": 3
   },
   "file_extension": ".py",
   "mimetype": "text/x-python",
   "name": "python",
   "nbconvert_exporter": "python",
   "pygments_lexer": "ipython3",
   "version": "3.12.6"
  },
  "orig_nbformat": 4
 },
 "nbformat": 4,
 "nbformat_minor": 2
}
