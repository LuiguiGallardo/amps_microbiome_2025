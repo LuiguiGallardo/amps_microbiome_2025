{
 "cells": [
  {
   "cell_type": "code",
   "execution_count": 89,
   "metadata": {},
   "outputs": [
    {
     "data": {
      "text/plain": [
       "<Figure size 750x750 with 0 Axes>"
      ]
     },
     "metadata": {},
     "output_type": "display_data"
    }
   ],
   "source": [
    "import os\n",
    "import pandas as pd\n",
    "import seaborn as sns\n",
    "import numpy as np\n",
    "import matplotlib.pyplot as plt\n",
    "from matplotlib.patches import Patch\n",
    "\n",
    "data = pd.read_csv(\"./filter_overexpressed_amps_ob.tsv\", delimiter=\"\\t\", index_col=0)\n",
    "\n",
    "samples_cols = [\"O 1\", \"O 2\", \"O 3\", \"OMS 1\", \"OMS 2\", \"OMS 3\"]\n",
    "data[samples_cols] = data[samples_cols].apply(pd.to_numeric, errors='coerce')\n",
    "\n",
    "# print(data)\n",
    "my_colors = [\"orange\", \"red\"]\n",
    "sns.set_palette(my_colors)\n",
    "\n",
    "# Origin colors\n",
    "data['Produced by'] = data['origin'].astype('category')\n",
    "origin = data.pop(\"Produced by\")\n",
    "origin_colors = [\"#D8BFD8\", \"#98FB98\", \"#FFFACD\", \"#FFA07A\"]  # Pastel purple, pastel green, pastel yellow, pastel red\n",
    "origin_unique_values = origin.unique()[:len(origin_colors)]\n",
    "origin_lut = dict(zip(origin_unique_values, origin_colors))\n",
    "row_colors = origin.map(origin_lut)\n",
    "\n",
    "# Group colors\n",
    "data[\"Group\"] = data[\"overexpressed_group\"].astype('category')\n",
    "group = data.pop(\"Group\")\n",
    "group_colors = [\"orange\", \"red\"]\n",
    "group_unique_values = group.unique()[:len(group_colors)]\n",
    "group_lut = dict(zip(group_unique_values, group_colors))\n",
    "col_colors = group.map(group_lut)\n",
    "\n",
    "# Combined colors\n",
    "combined_row_colors = pd.concat([row_colors, col_colors], axis=1)\n",
    "\n",
    "heatmap = sns.clustermap(\n",
    "    np.log10(data[samples_cols]),\n",
    "    row_colors=row_colors,\n",
    "    row_cluster=False,\n",
    "    col_cluster=False,\n",
    "    cmap=\"BuPu\",\n",
    "    cbar_kws={\"label\": \"log10(Abundance)\"},\n",
    "    figsize=(7.5, 7.5)\n",
    ")\n",
    "\n",
    "# handles_origin = [Patch(facecolor=lut[name]) for name in lut]\n",
    "# handles_group = [Patch(facecolor=lut[name]) for name in lut]\n",
    "# plt.legend(\n",
    "#     handles_origin + handles_group,\n",
    "#     list(lut.keys()) + list(lut.keys()),  # Adjust labels accordingly\n",
    "#     title=\"Legend\",\n",
    "#     bbox_to_anchor=(0.1, 0., 0.09, 0.91),\n",
    "#     bbox_transform=plt.gcf().transFigure,\n",
    "#     loc='upper right'\n",
    "# )\n",
    "\n",
    "handles_origin = [Patch(facecolor=color, label=label) for label, color in origin_lut.items()]\n",
    "# handles_group = [Patch(facecolor=color, label=label) for label, color in group_lut.items()]\n",
    "plt.legend(\n",
    "    handles_origin,\n",
    "    [*origin_lut.keys(), *group_lut.keys()],\n",
    "    title=\"Legend\",\n",
    "    bbox_to_anchor=(-5, 0, 1, 5.2),\n",
    "    loc='upper left',\n",
    "    borderaxespad=0,\n",
    ")\n",
    "\n",
    "heatmap.ax_cbar.set_position((0.05, 0.05, 0.01, 0.17))\n",
    "\n",
    "heatmap.ax_heatmap.set_xlabel(\"\")\n",
    "heatmap.ax_heatmap.set_ylabel(\"\")\n",
    "\n",
    "# plt.tight_layout()\n",
    "plt.savefig(\"./clustermap_log10_ob_groups_filtered.svg\")\n",
    "plt.savefig(\"./clustermap_log10_ob_groups_filtered.png\")\n",
    "plt.clf()\n"
   ]
  }
 ],
 "metadata": {
  "kernelspec": {
   "display_name": "base",
   "language": "python",
   "name": "python3"
  },
  "language_info": {
   "codemirror_mode": {
    "name": "ipython",
    "version": 3
   },
   "file_extension": ".py",
   "mimetype": "text/x-python",
   "name": "python",
   "nbconvert_exporter": "python",
   "pygments_lexer": "ipython3",
   "version": "3.12.6"
  },
  "orig_nbformat": 4
 },
 "nbformat": 4,
 "nbformat_minor": 2
}
