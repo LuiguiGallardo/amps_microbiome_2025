{
 "cells": [
  {
   "cell_type": "code",
   "execution_count": null,
   "metadata": {},
   "outputs": [
    {
     "data": {
      "text/plain": [
       "<Figure size 1000x1000 with 0 Axes>"
      ]
     },
     "metadata": {},
     "output_type": "display_data"
    }
   ],
   "source": [
    "import os\n",
    "import pandas as pd\n",
    "import seaborn as sns\n",
    "import numpy as np\n",
    "import matplotlib.pyplot as plt\n",
    "from matplotlib.patches import Patch\n",
    "\n",
    "data = pd.read_csv(\"./filter_overexpressed_amps_ob.tsv\", delimiter=\"\\t\", index_col=0)\n",
    "\n",
    "samples_cols = [\"O 1\", \"O 2\", \"O 3\", \"OMS 1\", \"OMS 2\", \"OMS 3\"]\n",
    "data[samples_cols] = data[samples_cols].apply(pd.to_numeric, errors='coerce')\n",
    "\n",
    "# print(data)\n",
    "my_colors = [\"orange\", \"red\"]\n",
    "sns.set_palette(my_colors)\n",
    "\n",
    "# Origin colors\n",
    "data['Produced by'] = data['origin'].astype('category')\n",
    "origin = data.pop(\"Produced by\")\n",
    "row_colors = [\"#D8BFD8\", \"#98FB98\", \"#FFFACD\", \"#FFA07A\"]  # Pastel purple, pastel green, pastel yellow, pastel red\n",
    "unique_values = origin.unique()[:len(row_colors)]\n",
    "lut = dict(zip(unique_values, row_colors))\n",
    "row_colors = origin.map(lut)\n",
    "\n",
    "# Group colors\n",
    "# data[\"Group\"] = data[\"overexpressed_group\"].astype('category')\n",
    "# group = data.pop(\"Group\")\n",
    "# group_colors = [\"orange\", \"red\"]\n",
    "# unique_values = group.unique()[:len(group_colors)]\n",
    "# lut = dict(zip(unique_values, group_colors))\n",
    "# col_colors = group.map(lut)\n",
    "\n",
    "# Combined colors\n",
    "# row_colors = pd.concat([col_colors],axis=1)\n",
    "\n",
    "heatmap = sns.clustermap(\n",
    "    np.log10(data[samples_cols]),\n",
    "    row_colors=row_colors,\n",
    "    row_cluster=False,\n",
    "    cmap=\"BuPu\",\n",
    "    cbar_kws={\"label\": \"log10(Abundance)\"}\n",
    ")\n",
    "\n",
    "handles = [Patch(facecolor=lut[name]) for name in lut]\n",
    "plt.legend(handles, lut, title='Produced by',\n",
    "           bbox_to_anchor=(0.1, 0., 0.09, 0.91), bbox_transform=plt.gcf().transFigure, loc='upper right')\n",
    "\n",
    "heatmap.ax_cbar.set_position((0.05, 0.05, 0.01, 0.17))\n",
    "\n",
    "heatmap.ax_heatmap.set_xlabel(\"\")\n",
    "heatmap.ax_heatmap.set_ylabel(\"\")\n",
    "# plt.tight_layout()\n",
    "plt.savefig(\"./clustermap_log10_reference_samples_filtered.svg\")\n",
    "plt.savefig(\"./clustermap_log10_reference_samples_filtered.png\")\n",
    "plt.clf()\n"
   ]
  },
  {
   "cell_type": "code",
   "execution_count": null,
   "metadata": {},
   "outputs": [],
   "source": []
  }
 ],
 "metadata": {
  "kernelspec": {
   "display_name": "Python 3",
   "language": "python",
   "name": "python3"
  },
  "language_info": {
   "codemirror_mode": {
    "name": "ipython",
    "version": 3
   },
   "file_extension": ".py",
   "mimetype": "text/x-python",
   "name": "python",
   "nbconvert_exporter": "python",
   "pygments_lexer": "ipython3",
   "version": "3.9.6"
  },
  "orig_nbformat": 4
 },
 "nbformat": 4,
 "nbformat_minor": 2
}
