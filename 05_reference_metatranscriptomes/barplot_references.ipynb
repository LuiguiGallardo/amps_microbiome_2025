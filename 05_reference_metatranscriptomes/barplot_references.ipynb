{
 "cells": [
  {
   "cell_type": "code",
   "execution_count": 1,
   "metadata": {},
   "outputs": [
    {
     "data": {
      "text/plain": [
       "<Figure size 1000x800 with 0 Axes>"
      ]
     },
     "metadata": {},
     "output_type": "display_data"
    }
   ],
   "source": [
    "import matplotlib.pyplot as plt\n",
    "import seaborn as sns\n",
    "import pandas as pd\n",
    "\n",
    "# Data\n",
    "data = pd.read_csv(\"./prevalence_adult_samples.tsv\", sep=\"\\t\")\n",
    "# print(data.head())\n",
    "\n",
    "# Set style\n",
    "sns.set(style=\"white\")\n",
    "\n",
    "# Create figure\n",
    "plt.figure(figsize=(10, 8))\n",
    "ax = sns.barplot(data, y=\"amp.id\", x=\"prevalence\", orient=\"h\", color=\"lightgreen\")\n",
    "\n",
    "# Labels and title\n",
    "plt.xlabel(\"Prevalence (%)\")\n",
    "plt.ylabel(\"\")\n",
    "# plt.title(\"Prevalence of Antimicrobial Peptides by Origin\", fontsize=14)\n",
    "plt.xlim(0, 110)\n",
    "\n",
    "# Show values on bars\n",
    "for p in ax.patches:\n",
    "    width = p.get_width()\n",
    "    plt.text(width + 1, p.get_y() + p.get_height()/2, f\"{width:.2f}%\", ha=\"left\", va=\"center\", fontsize=10)\n",
    "\n",
    "plt.tight_layout()\n",
    "plt.savefig(\"prevalence_adult_samples.png\", dpi=300)\n",
    "plt.savefig(\"prevalence_adult_samples.svg\", dpi=300)\n",
    "plt.clf()"
   ]
  }
 ],
 "metadata": {
  "kernelspec": {
   "display_name": "base",
   "language": "python",
   "name": "python3"
  },
  "language_info": {
   "codemirror_mode": {
    "name": "ipython",
    "version": 3
   },
   "file_extension": ".py",
   "mimetype": "text/x-python",
   "name": "python",
   "nbconvert_exporter": "python",
   "pygments_lexer": "ipython3",
   "version": "3.12.6"
  }
 },
 "nbformat": 4,
 "nbformat_minor": 2
}
